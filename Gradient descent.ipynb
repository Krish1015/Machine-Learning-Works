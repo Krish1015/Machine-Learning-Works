{
 "cells": [
  {
   "cell_type": "code",
   "execution_count": 1,
   "id": "042b9432",
   "metadata": {},
   "outputs": [],
   "source": [
    "from sklearn.datasets import make_regression\n",
    "import numpy as np\n",
    "import matplotlib.pyplot as plt\n",
    "import pandas as pd"
   ]
  },
  {
   "cell_type": "code",
   "execution_count": 2,
   "id": "6a5e549f",
   "metadata": {},
   "outputs": [],
   "source": [
    "x,y = make_regression(n_samples=4, n_features=1, n_informative=1, n_targets=1, noise=80, random_state=13)"
   ]
  },
  {
   "cell_type": "code",
   "execution_count": 3,
   "id": "82582b1c",
   "metadata": {},
   "outputs": [
    {
     "data": {
      "text/plain": [
       "<matplotlib.collections.PathCollection at 0x23072c861a0>"
      ]
     },
     "execution_count": 3,
     "metadata": {},
     "output_type": "execute_result"
    },
    {
     "data": {
      "image/png": "[encoded data removed]",
      "text/plain": [
       "<Figure size 432x288 with 1 Axes>"
      ]
     },
     "metadata": {
      "needs_background": "light"
     },
     "output_type": "display_data"
    }
   ],
   "source": [
    "plt.scatter(x,y)"
   ]
  },
  {
   "cell_type": "code",
   "execution_count": 4,
   "id": "6a408992",
   "metadata": {},
   "outputs": [],
   "source": [
    "# lets apply OLS\n",
    "from sklearn.linear_model import LinearRegression\n"
   ]
  },
  {
   "cell_type": "code",
   "execution_count": 5,
   "id": "ee9e4318",
   "metadata": {},
   "outputs": [
    {
     "data": {
      "text/html": [
       "<style>#sk-container-id-1 {color: black;background-color: white;}#sk-container-id-1 pre{padding: 0;}#sk-container-id-1 div.sk-toggleable {background-color: white;}#sk-container-id-1 label.sk-toggleable__label {cursor: pointer;display: block;width: 100%;margin-bottom: 0;padding: 0.3em;box-sizing: border-box;text-align: center;}#sk-container-id-1 label.sk-toggleable__label-arrow:before {content: \"▸\";float: left;margin-right: 0.25em;color: #696969;}#sk-container-id-1 label.sk-toggleable__label-arrow:hover:before {color: black;}#sk-container-id-1 div.sk-estimator:hover label.sk-toggleable__label-arrow:before {color: black;}#sk-container-id-1 div.sk-toggleable__content {max-height: 0;max-width: 0;overflow: hidden;text-align: left;background-color: #f0f8ff;}#sk-container-id-1 div.sk-toggleable__content pre {margin: 0.2em;color: black;border-radius: 0.25em;background-color: #f0f8ff;}#sk-container-id-1 input.sk-toggleable__control:checked~div.sk-toggleable__content {max-height: 200px;max-width: 100%;overflow: auto;}#sk-container-id-1 input.sk-toggleable__control:checked~label.sk-toggleable__label-arrow:before {content: \"▾\";}#sk-container-id-1 div.sk-estimator input.sk-toggleable__control:checked~label.sk-toggleable__label {background-color: #d4ebff;}#sk-container-id-1 div.sk-label input.sk-toggleable__control:checked~label.sk-toggleable__label {background-color: #d4ebff;}#sk-container-id-1 input.sk-hidden--visually {border: 0;clip: rect(1px 1px 1px 1px);clip: rect(1px, 1px, 1px, 1px);height: 1px;margin: -1px;overflow: hidden;padding: 0;position: absolute;width: 1px;}#sk-container-id-1 div.sk-estimator {font-family: monospace;background-color: #f0f8ff;border: 1px dotted black;border-radius: 0.25em;box-sizing: border-box;margin-bottom: 0.5em;}#sk-container-id-1 div.sk-estimator:hover {background-color: #d4ebff;}#sk-container-id-1 div.sk-parallel-item::after {content: \"\";width: 100%;border-bottom: 1px solid gray;flex-grow: 1;}#sk-container-id-1 div.sk-label:hover label.sk-toggleable__label {background-color: #d4ebff;}#sk-container-id-1 div.sk-serial::before {content: \"\";position: absolute;border-left: 1px solid gray;box-sizing: border-box;top: 0;bottom: 0;left: 50%;z-index: 0;}#sk-container-id-1 div.sk-serial {display: flex;flex-direction: column;align-items: center;background-color: white;padding-right: 0.2em;padding-left: 0.2em;position: relative;}#sk-container-id-1 div.sk-item {position: relative;z-index: 1;}#sk-container-id-1 div.sk-parallel {display: flex;align-items: stretch;justify-content: center;background-color: white;position: relative;}#sk-container-id-1 div.sk-item::before, #sk-container-id-1 div.sk-parallel-item::before {content: \"\";position: absolute;border-left: 1px solid gray;box-sizing: border-box;top: 0;bottom: 0;left: 50%;z-index: -1;}#sk-container-id-1 div.sk-parallel-item {display: flex;flex-direction: column;z-index: 1;position: relative;background-color: white;}#sk-container-id-1 div.sk-parallel-item:first-child::after {align-self: flex-end;width: 50%;}#sk-container-id-1 div.sk-parallel-item:last-child::after {align-self: flex-start;width: 50%;}#sk-container-id-1 div.sk-parallel-item:only-child::after {width: 0;}#sk-container-id-1 div.sk-dashed-wrapped {border: 1px dashed gray;margin: 0 0.4em 0.5em 0.4em;box-sizing: border-box;padding-bottom: 0.4em;background-color: white;}#sk-container-id-1 div.sk-label label {font-family: monospace;font-weight: bold;display: inline-block;line-height: 1.2em;}#sk-container-id-1 div.sk-label-container {text-align: center;}#sk-container-id-1 div.sk-container {/* jupyter's `normalize.less` sets `[hidden] { display: none; }` but bootstrap.min.css set `[hidden] { display: none !important; }` so we also need the `!important` here to be able to override the default hidden behavior on the sphinx rendered scikit-learn.org. See: https://github.com/scikit-learn/scikit-learn/issues/21755 */display: inline-block !important;position: relative;}#sk-container-id-1 div.sk-text-repr-fallback {display: none;}</style><div id=\"sk-container-id-1\" class=\"sk-top-container\"><div class=\"sk-text-repr-fallback\"><pre>LinearRegression()</pre><b>In a Jupyter environment, please rerun this cell to show the HTML representation or trust the notebook. <br />On GitHub, the HTML representation is unable to render, please try loading this page with nbviewer.org.</b></div><div class=\"sk-container\" hidden><div class=\"sk-item\"><div class=\"sk-estimator sk-toggleable\"><input class=\"sk-toggleable__control sk-hidden--visually\" id=\"sk-estimator-id-1\" type=\"checkbox\" checked><label for=\"sk-estimator-id-1\" class=\"sk-toggleable__label sk-toggleable__label-arrow\">LinearRegression</label><div class=\"sk-toggleable__content\"><pre>LinearRegression()</pre></div></div></div></div></div>"
      ],
      "text/plain": [
       "LinearRegression()"
      ]
     },
     "execution_count": 5,
     "metadata": {},
     "output_type": "execute_result"
    }
   ],
   "source": [
    "reg = LinearRegression()\n",
    "reg.fit(x,y)"
   ]
  },
  {
   "cell_type": "code",
   "execution_count": 6,
   "id": "898f6d1c",
   "metadata": {},
   "outputs": [
    {
     "data": {
      "text/plain": [
       "array([78.35063668])"
      ]
     },
     "execution_count": 6,
     "metadata": {},
     "output_type": "execute_result"
    }
   ],
   "source": [
    "reg.coef_"
   ]
  },
  {
   "cell_type": "code",
   "execution_count": 7,
   "id": "8826258f",
   "metadata": {},
   "outputs": [
    {
     "data": {
      "text/plain": [
       "26.15963284313262"
      ]
     },
     "execution_count": 7,
     "metadata": {},
     "output_type": "execute_result"
    }
   ],
   "source": [
    "reg.intercept_"
   ]
  },
  {
   "cell_type": "code",
   "execution_count": 8,
   "id": "f385d2df",
   "metadata": {},
   "outputs": [
    {
     "data": {
      "text/plain": [
       "[<matplotlib.lines.Line2D at 0x2307501f100>]"
      ]
     },
     "execution_count": 8,
     "metadata": {},
     "output_type": "execute_result"
    },
    {
     "data": {
      "image/png": "[encoded data removed]",
      "text/plain": [
       "<Figure size 432x288 with 1 Axes>"
      ]
     },
     "metadata": {
      "needs_background": "light"
     },
     "output_type": "display_data"
    }
   ],
   "source": [
    "plt.scatter(x,y)\n",
    "plt.plot(x,reg.predict(x), color = 'red')"
   ]
  },
  {
   "cell_type": "code",
   "execution_count": 9,
   "id": "c1c349ae",
   "metadata": {},
   "outputs": [],
   "source": [
    "# from the regresion we got the slope of the regressor line is 78.35063668 we will stick with this\n",
    "# but we are going to take the b value as our choice as a arbitary one b= 0\n",
    "# then new predicted y will be\n",
    "y_pred = (78.35063668*x + 0).reshape(4)"
   ]
  },
  {
   "cell_type": "code",
   "execution_count": 10,
   "id": "be0d63e6",
   "metadata": {},
   "outputs": [
    {
     "data": {
      "text/plain": [
       "array([-55.81626194,  35.3997844 ,  -3.48684452,  59.05807568])"
      ]
     },
     "execution_count": 10,
     "metadata": {},
     "output_type": "execute_result"
    }
   ],
   "source": [
    "y_pred"
   ]
  },
  {
   "cell_type": "code",
   "execution_count": 11,
   "id": "12390ccd",
   "metadata": {},
   "outputs": [
    {
     "data": {
      "image/png": "[encoded data removed]",
      "text/plain": [
       "<Figure size 432x288 with 1 Axes>"
      ]
     },
     "metadata": {
      "needs_background": "light"
     },
     "output_type": "display_data"
    }
   ],
   "source": [
    "plt.scatter(x,y)\n",
    "plt.plot(x,reg.predict(x), color = 'red', label = 'OLS')\n",
    "plt.plot(x,y_pred, color= '#00a65a', label = 'b = 0')\n",
    "plt.legend()\n",
    "plt.show()"
   ]
  },
  {
   "cell_type": "code",
   "execution_count": 12,
   "id": "8b01ae1e",
   "metadata": {},
   "outputs": [
    {
     "data": {
      "text/plain": [
       "-209.27706274458984"
      ]
     },
     "execution_count": 12,
     "metadata": {},
     "output_type": "execute_result"
    }
   ],
   "source": [
    "m= 78.35063668\n",
    "b = 0\n",
    "\n",
    "loss_slope = -2 * np.sum(y - m*x.ravel() - b)\n",
    "loss_slope"
   ]
  },
  {
   "cell_type": "code",
   "execution_count": 13,
   "id": "00b7745d",
   "metadata": {},
   "outputs": [],
   "source": [
    "learning_rate= 0.1\n",
    "step_size = loss_slope*learning_rate"
   ]
  },
  {
   "cell_type": "code",
   "execution_count": 14,
   "id": "8e90a1ea",
   "metadata": {},
   "outputs": [],
   "source": [
    "b = b - step_size"
   ]
  },
  {
   "cell_type": "code",
   "execution_count": 15,
   "id": "d7f31f9c",
   "metadata": {},
   "outputs": [
    {
     "data": {
      "text/plain": [
       "20.927706274458984"
      ]
     },
     "execution_count": 15,
     "metadata": {},
     "output_type": "execute_result"
    }
   ],
   "source": [
    "b"
   ]
  },
  {
   "cell_type": "code",
   "execution_count": 16,
   "id": "d7b0e62c",
   "metadata": {},
   "outputs": [
    {
     "data": {
      "text/plain": [
       "array([-55.81626194,  35.3997844 ,  -3.48684452,  59.05807568])"
      ]
     },
     "execution_count": 16,
     "metadata": {},
     "output_type": "execute_result"
    }
   ],
   "source": [
    "y_pred"
   ]
  },
  {
   "cell_type": "code",
   "execution_count": 17,
   "id": "76d69602",
   "metadata": {},
   "outputs": [
    {
     "ename": "NameError",
     "evalue": "name 'y_pred1' is not defined",
     "output_type": "error",
     "traceback": [
      "\u001b[1;31m---------------------------------------------------------------------------\u001b[0m",
      "\u001b[1;31mNameError\u001b[0m                                 Traceback (most recent call last)",
      "Input \u001b[1;32mIn [17]\u001b[0m, in \u001b[0;36m<cell line: 1>\u001b[1;34m()\u001b[0m\n\u001b[1;32m----> 1\u001b[0m \u001b[43my_pred1\u001b[49m\n",
      "\u001b[1;31mNameError\u001b[0m: name 'y_pred1' is not defined"
     ]
    }
   ],
   "source": [
    "y_pred1"
   ]
  },
  {
   "cell_type": "code",
   "execution_count": 18,
   "id": "af0e5a6b",
   "metadata": {},
   "outputs": [
    {
     "data": {
      "image/png": "[encoded data removed]",
      "text/plain": [
       "<Figure size 432x288 with 1 Axes>"
      ]
     },
     "metadata": {
      "needs_background": "light"
     },
     "output_type": "display_data"
    }
   ],
   "source": [
    "y_pred1 = (78.35063668*x + 23.020476901904882).reshape(4)\n",
    "plt.scatter(x,y)\n",
    "plt.plot(x,reg.predict(x), color = 'red', label = 'OLS')\n",
    "plt.plot(x,y_pred, color= '#00a65a', label = 'b = 0')\n",
    "plt.plot(x, y_pred1, color = 'gray', label = 'After 1st iteration')\n",
    "plt.legend()\n",
    "plt.show()"
   ]
  },
  {
   "cell_type": "code",
   "execution_count": 19,
   "id": "117a37e5",
   "metadata": {},
   "outputs": [
    {
     "data": {
      "image/png": "[encoded data removed]",
      "text/plain": [
       "<Figure size 432x288 with 1 Axes>"
      ]
     },
     "metadata": {
      "needs_background": "light"
     },
     "output_type": "display_data"
    }
   ],
   "source": [
    "b = -100\n",
    "m =  78.355\n",
    "epoch = 100\n",
    "plt.scatter(x,y)\n",
    "for i in range(epoch):\n",
    "    loss_slope = -2 * np.sum(y - m*x.ravel() - b)\n",
    "    step_size = loss_slope*0.02\n",
    "    b = b - step_size\n",
    "    y_pred = (m*x + b).reshape(4)\n",
    "    plt.plot(x,y_pred)"
   ]
  },
  {
   "cell_type": "code",
   "execution_count": null,
   "id": "2377c508",
   "metadata": {},
   "outputs": [],
   "source": []
  },
  {
   "cell_type": "markdown",
   "id": "4e3ea1d7",
   "metadata": {},
   "source": [
    "# Gradient Descent whinle m and b both are changing"
   ]
  },
  {
   "cell_type": "code",
   "execution_count": 20,
   "id": "c60ff293",
   "metadata": {},
   "outputs": [],
   "source": [
    "x1,y1 = make_regression(n_samples=200, n_features=1, n_informative=1, n_targets=1, noise=20, random_state=13)"
   ]
  },
  {
   "cell_type": "code",
   "execution_count": 21,
   "id": "256596e2",
   "metadata": {},
   "outputs": [],
   "source": [
    "lr1= LinearRegression()"
   ]
  },
  {
   "cell_type": "code",
   "execution_count": 22,
   "id": "9648054a",
   "metadata": {},
   "outputs": [
    {
     "data": {
      "text/html": [
       "<style>#sk-container-id-2 {color: black;background-color: white;}#sk-container-id-2 pre{padding: 0;}#sk-container-id-2 div.sk-toggleable {background-color: white;}#sk-container-id-2 label.sk-toggleable__label {cursor: pointer;display: block;width: 100%;margin-bottom: 0;padding: 0.3em;box-sizing: border-box;text-align: center;}#sk-container-id-2 label.sk-toggleable__label-arrow:before {content: \"▸\";float: left;margin-right: 0.25em;color: #696969;}#sk-container-id-2 label.sk-toggleable__label-arrow:hover:before {color: black;}#sk-container-id-2 div.sk-estimator:hover label.sk-toggleable__label-arrow:before {color: black;}#sk-container-id-2 div.sk-toggleable__content {max-height: 0;max-width: 0;overflow: hidden;text-align: left;background-color: #f0f8ff;}#sk-container-id-2 div.sk-toggleable__content pre {margin: 0.2em;color: black;border-radius: 0.25em;background-color: #f0f8ff;}#sk-container-id-2 input.sk-toggleable__control:checked~div.sk-toggleable__content {max-height: 200px;max-width: 100%;overflow: auto;}#sk-container-id-2 input.sk-toggleable__control:checked~label.sk-toggleable__label-arrow:before {content: \"▾\";}#sk-container-id-2 div.sk-estimator input.sk-toggleable__control:checked~label.sk-toggleable__label {background-color: #d4ebff;}#sk-container-id-2 div.sk-label input.sk-toggleable__control:checked~label.sk-toggleable__label {background-color: #d4ebff;}#sk-container-id-2 input.sk-hidden--visually {border: 0;clip: rect(1px 1px 1px 1px);clip: rect(1px, 1px, 1px, 1px);height: 1px;margin: -1px;overflow: hidden;padding: 0;position: absolute;width: 1px;}#sk-container-id-2 div.sk-estimator {font-family: monospace;background-color: #f0f8ff;border: 1px dotted black;border-radius: 0.25em;box-sizing: border-box;margin-bottom: 0.5em;}#sk-container-id-2 div.sk-estimator:hover {background-color: #d4ebff;}#sk-container-id-2 div.sk-parallel-item::after {content: \"\";width: 100%;border-bottom: 1px solid gray;flex-grow: 1;}#sk-container-id-2 div.sk-label:hover label.sk-toggleable__label {background-color: #d4ebff;}#sk-container-id-2 div.sk-serial::before {content: \"\";position: absolute;border-left: 1px solid gray;box-sizing: border-box;top: 0;bottom: 0;left: 50%;z-index: 0;}#sk-container-id-2 div.sk-serial {display: flex;flex-direction: column;align-items: center;background-color: white;padding-right: 0.2em;padding-left: 0.2em;position: relative;}#sk-container-id-2 div.sk-item {position: relative;z-index: 1;}#sk-container-id-2 div.sk-parallel {display: flex;align-items: stretch;justify-content: center;background-color: white;position: relative;}#sk-container-id-2 div.sk-item::before, #sk-container-id-2 div.sk-parallel-item::before {content: \"\";position: absolute;border-left: 1px solid gray;box-sizing: border-box;top: 0;bottom: 0;left: 50%;z-index: -1;}#sk-container-id-2 div.sk-parallel-item {display: flex;flex-direction: column;z-index: 1;position: relative;background-color: white;}#sk-container-id-2 div.sk-parallel-item:first-child::after {align-self: flex-end;width: 50%;}#sk-container-id-2 div.sk-parallel-item:last-child::after {align-self: flex-start;width: 50%;}#sk-container-id-2 div.sk-parallel-item:only-child::after {width: 0;}#sk-container-id-2 div.sk-dashed-wrapped {border: 1px dashed gray;margin: 0 0.4em 0.5em 0.4em;box-sizing: border-box;padding-bottom: 0.4em;background-color: white;}#sk-container-id-2 div.sk-label label {font-family: monospace;font-weight: bold;display: inline-block;line-height: 1.2em;}#sk-container-id-2 div.sk-label-container {text-align: center;}#sk-container-id-2 div.sk-container {/* jupyter's `normalize.less` sets `[hidden] { display: none; }` but bootstrap.min.css set `[hidden] { display: none !important; }` so we also need the `!important` here to be able to override the default hidden behavior on the sphinx rendered scikit-learn.org. See: https://github.com/scikit-learn/scikit-learn/issues/21755 */display: inline-block !important;position: relative;}#sk-container-id-2 div.sk-text-repr-fallback {display: none;}</style><div id=\"sk-container-id-2\" class=\"sk-top-container\"><div class=\"sk-text-repr-fallback\"><pre>LinearRegression()</pre><b>In a Jupyter environment, please rerun this cell to show the HTML representation or trust the notebook. <br />On GitHub, the HTML representation is unable to render, please try loading this page with nbviewer.org.</b></div><div class=\"sk-container\" hidden><div class=\"sk-item\"><div class=\"sk-estimator sk-toggleable\"><input class=\"sk-toggleable__control sk-hidden--visually\" id=\"sk-estimator-id-2\" type=\"checkbox\" checked><label for=\"sk-estimator-id-2\" class=\"sk-toggleable__label sk-toggleable__label-arrow\">LinearRegression</label><div class=\"sk-toggleable__content\"><pre>LinearRegression()</pre></div></div></div></div></div>"
      ],
      "text/plain": [
       "LinearRegression()"
      ]
     },
     "execution_count": 22,
     "metadata": {},
     "output_type": "execute_result"
    }
   ],
   "source": [
    "lr1.fit(x1,y1)"
   ]
  },
  {
   "cell_type": "code",
   "execution_count": 27,
   "id": "0fae8582",
   "metadata": {},
   "outputs": [],
   "source": [
    "from sklearn.model_selection import cross_val_score"
   ]
  },
  {
   "cell_type": "code",
   "execution_count": 28,
   "id": "8387112d",
   "metadata": {},
   "outputs": [
    {
     "data": {
      "text/plain": [
       "-2.020533165175091"
      ]
     },
     "execution_count": 28,
     "metadata": {},
     "output_type": "execute_result"
    }
   ],
   "source": [
    "lr1.intercept_\n"
   ]
  },
  {
   "cell_type": "code",
   "execution_count": 29,
   "id": "d2a69c62",
   "metadata": {},
   "outputs": [
    {
     "data": {
      "text/plain": [
       "array([21.44460094])"
      ]
     },
     "execution_count": 29,
     "metadata": {},
     "output_type": "execute_result"
    }
   ],
   "source": [
    "lr1.coef_"
   ]
  },
  {
   "cell_type": "code",
   "execution_count": 31,
   "id": "fccda2c7",
   "metadata": {},
   "outputs": [
    {
     "data": {
      "text/plain": [
       "0.40692671111261136"
      ]
     },
     "execution_count": 31,
     "metadata": {},
     "output_type": "execute_result"
    }
   ],
   "source": [
    "np.mean(cross_val_score(lr1,x1,y1,scoring = 'r2', cv = 10))"
   ]
  },
  {
   "cell_type": "code",
   "execution_count": null,
   "id": "e4c249e0",
   "metadata": {},
   "outputs": [],
   "source": []
  },
  {
   "cell_type": "code",
   "execution_count": null,
   "id": "34084732",
   "metadata": {},
   "outputs": [],
   "source": []
  },
  {
   "cell_type": "code",
   "execution_count": null,
   "id": "24d32583",
   "metadata": {},
   "outputs": [],
   "source": []
  },
  {
   "cell_type": "code",
   "execution_count": null,
   "id": "8d080a95",
   "metadata": {},
   "outputs": [],
   "source": []
  },
  {
   "cell_type": "code",
   "execution_count": null,
   "id": "975ec5ba",
   "metadata": {},
   "outputs": [],
   "source": []
  },
  {
   "cell_type": "code",
   "execution_count": null,
   "id": "e30ac626",
   "metadata": {},
   "outputs": [],
   "source": []
  },
  {
   "cell_type": "code",
   "execution_count": null,
   "id": "10c376e6",
   "metadata": {},
   "outputs": [],
   "source": []
  },
  {
   "cell_type": "code",
   "execution_count": null,
   "id": "90a25d36",
   "metadata": {},
   "outputs": [],
   "source": []
  },
  {
   "cell_type": "code",
   "execution_count": null,
   "id": "68e5abd8",
   "metadata": {},
   "outputs": [],
   "source": []
  },
  {
   "cell_type": "code",
   "execution_count": null,
   "id": "7248bf41",
   "metadata": {},
   "outputs": [],
   "source": []
  },
  {
   "cell_type": "code",
   "execution_count": null,
   "id": "8e42f228",
   "metadata": {},
   "outputs": [],
   "source": []
  },
  {
   "cell_type": "code",
   "execution_count": null,
   "id": "c2235d26",
   "metadata": {},
   "outputs": [],
   "source": []
  },
  {
   "cell_type": "code",
   "execution_count": null,
   "id": "9bba96e6",
   "metadata": {},
   "outputs": [],
   "source": []
  },
  {
   "cell_type": "code",
   "execution_count": null,
   "id": "05c830e2",
   "metadata": {},
   "outputs": [],
   "source": []
  },
  {
   "cell_type": "code",
   "execution_count": null,
   "id": "ef8dd6f6",
   "metadata": {},
   "outputs": [],
   "source": []
  },
  {
   "cell_type": "code",
   "execution_count": null,
   "id": "aa3e8131",
   "metadata": {},
   "outputs": [],
   "source": []
  },
  {
   "cell_type": "code",
   "execution_count": null,
   "id": "c7093939",
   "metadata": {},
   "outputs": [],
   "source": []
  },
  {
   "cell_type": "code",
   "execution_count": null,
   "id": "629a5602",
   "metadata": {},
   "outputs": [],
   "source": []
  },
  {
   "cell_type": "code",
   "execution_count": null,
   "id": "32dceb63",
   "metadata": {},
   "outputs": [],
   "source": []
  },
  {
   "cell_type": "code",
   "execution_count": null,
   "id": "c1e9c2d3",
   "metadata": {},
   "outputs": [],
   "source": []
  },
  {
   "cell_type": "code",
   "execution_count": null,
   "id": "852f0de1",
   "metadata": {},
   "outputs": [],
   "source": []
  },
  {
   "cell_type": "code",
   "execution_count": null,
   "id": "28e46a3d",
   "metadata": {},
   "outputs": [],
   "source": []
  },
  {
   "cell_type": "code",
   "execution_count": null,
   "id": "4b37dbb4",
   "metadata": {},
   "outputs": [],
   "source": []
  },
  {
   "cell_type": "code",
   "execution_count": null,
   "id": "2696a433",
   "metadata": {},
   "outputs": [],
   "source": []
  },
  {
   "cell_type": "code",
   "execution_count": null,
   "id": "c11ec27a",
   "metadata": {},
   "outputs": [],
   "source": []
  },
  {
   "cell_type": "code",
   "execution_count": null,
   "id": "3cae25c3",
   "metadata": {},
   "outputs": [],
   "source": []
  },
  {
   "cell_type": "code",
   "execution_count": null,
   "id": "f3841dcf",
   "metadata": {},
   "outputs": [],
   "source": []
  },
  {
   "cell_type": "code",
   "execution_count": null,
   "id": "22a67314",
   "metadata": {},
   "outputs": [],
   "source": []
  },
  {
   "cell_type": "code",
   "execution_count": null,
   "id": "713b33b3",
   "metadata": {},
   "outputs": [],
   "source": []
  },
  {
   "cell_type": "code",
   "execution_count": null,
   "id": "c26a65e2",
   "metadata": {},
   "outputs": [],
   "source": []
  },
  {
   "cell_type": "code",
   "execution_count": null,
   "id": "3923a87d",
   "metadata": {},
   "outputs": [],
   "source": []
  },
  {
   "cell_type": "code",
   "execution_count": null,
   "id": "789bcac5",
   "metadata": {},
   "outputs": [],
   "source": []
  },
  {
   "cell_type": "code",
   "execution_count": null,
   "id": "fe53b096",
   "metadata": {},
   "outputs": [],
   "source": []
  },
  {
   "cell_type": "code",
   "execution_count": null,
   "id": "f1212f1f",
   "metadata": {},
   "outputs": [],
   "source": []
  },
  {
   "cell_type": "code",
   "execution_count": null,
   "id": "54f4eec9",
   "metadata": {},
   "outputs": [],
   "source": []
  },
  {
   "cell_type": "code",
   "execution_count": null,
   "id": "5e5493b9",
   "metadata": {},
   "outputs": [],
   "source": []
  },
  {
   "cell_type": "code",
   "execution_count": null,
   "id": "1584bc77",
   "metadata": {},
   "outputs": [],
   "source": []
  },
  {
   "cell_type": "code",
   "execution_count": null,
   "id": "c58e2f25",
   "metadata": {},
   "outputs": [],
   "source": []
  },
  {
   "cell_type": "code",
   "execution_count": null,
   "id": "395122b9",
   "metadata": {},
   "outputs": [],
   "source": []
  },
  {
   "cell_type": "code",
   "execution_count": null,
   "id": "a9b4d8d0",
   "metadata": {},
   "outputs": [],
   "source": []
  },
  {
   "cell_type": "code",
   "execution_count": null,
   "id": "02e46cc7",
   "metadata": {},
   "outputs": [],
   "source": []
  },
  {
   "cell_type": "code",
   "execution_count": null,
   "id": "f03d02cf",
   "metadata": {},
   "outputs": [],
   "source": []
  },
  {
   "cell_type": "code",
   "execution_count": null,
   "id": "3cfb6764",
   "metadata": {},
   "outputs": [],
   "source": []
  },
  {
   "cell_type": "code",
   "execution_count": null,
   "id": "c5f6588f",
   "metadata": {},
   "outputs": [],
   "source": []
  },
  {
   "cell_type": "code",
   "execution_count": null,
   "id": "d478091b",
   "metadata": {},
   "outputs": [],
   "source": []
  },
  {
   "cell_type": "code",
   "execution_count": null,
   "id": "f78c397d",
   "metadata": {},
   "outputs": [],
   "source": []
  },
  {
   "cell_type": "code",
   "execution_count": null,
   "id": "40afb62a",
   "metadata": {},
   "outputs": [],
   "source": []
  },
  {
   "cell_type": "code",
   "execution_count": null,
   "id": "eb2d9b2f",
   "metadata": {},
   "outputs": [],
   "source": []
  },
  {
   "cell_type": "code",
   "execution_count": null,
   "id": "a639beac",
   "metadata": {},
   "outputs": [],
   "source": []
  },
  {
   "cell_type": "code",
   "execution_count": null,
   "id": "94323f04",
   "metadata": {},
   "outputs": [],
   "source": []
  },
  {
   "cell_type": "code",
   "execution_count": null,
   "id": "bafffe8a",
   "metadata": {},
   "outputs": [],
   "source": []
  },
  {
   "cell_type": "code",
   "execution_count": null,
   "id": "22a5f6a5",
   "metadata": {},
   "outputs": [],
   "source": []
  },
  {
   "cell_type": "code",
   "execution_count": null,
   "id": "6aff61fb",
   "metadata": {},
   "outputs": [],
   "source": []
  },
  {
   "cell_type": "markdown",
   "id": "5f2131b1",
   "metadata": {},
   "source": [
    "# Making of New class GD regressor"
   ]
  },
  {
   "cell_type": "code",
   "execution_count": 46,
   "id": "802676d6",
   "metadata": {},
   "outputs": [],
   "source": [
    "x,y = make_regression(n_samples=200, n_features=1, n_informative=1, n_targets=1, noise=20, random_state=13)"
   ]
  },
  {
   "cell_type": "code",
   "execution_count": 47,
   "id": "eca0dc23",
   "metadata": {},
   "outputs": [
    {
     "data": {
      "text/plain": [
       "<matplotlib.collections.PathCollection at 0x23075a04640>"
      ]
     },
     "execution_count": 47,
     "metadata": {},
     "output_type": "execute_result"
    },
    {
     "data": {
      "image/png": "[encoded data removed]",
      "text/plain": [
       "<Figure size 432x288 with 1 Axes>"
      ]
     },
     "metadata": {
      "needs_background": "light"
     },
     "output_type": "display_data"
    }
   ],
   "source": [
    "plt.scatter(x,y)"
   ]
  },
  {
   "cell_type": "code",
   "execution_count": null,
   "id": "2dfd9651",
   "metadata": {},
   "outputs": [],
   "source": [
    "from sklearn.linear_model import LinearRegression\n",
    "lr = LinearRegression()"
   ]
  },
  {
   "cell_type": "raw",
   "id": "62fe4ab6",
   "metadata": {},
   "source": []
  },
  {
   "cell_type": "code",
   "execution_count": null,
   "id": "8ac7dc4b",
   "metadata": {},
   "outputs": [],
   "source": [
    "lr.fit(x,y)"
   ]
  },
  {
   "cell_type": "code",
   "execution_count": null,
   "id": "49daa0f3",
   "metadata": {},
   "outputs": [],
   "source": [
    "print(lr.coef_)\n",
    "print(lr.intercept_)\n",
    "m  = "
   ]
  },
  {
   "cell_type": "code",
   "execution_count": 40,
   "id": "d0e6f4c2",
   "metadata": {},
   "outputs": [],
   "source": [
    "class GDregressor:\n",
    "    \n",
    "    def __init__(self,learning_rate, epochs):\n",
    "        self.m = 220\n",
    "        self.b = -1002.02\n",
    "        self.lr = learning_rate\n",
    "        self .epochs = epochs\n",
    "    def fit(self,x,y):\n",
    "        # calculate b using GD\n",
    "        for i in range(self.epochs):\n",
    "            loss_slope_b = -2 * np.sum(y - self.m*x.ravel() - self.b)\n",
    "            loss_slope_m = -2* np.sum((y - self.m*x.ravel())*(x.ravel()) - self.b)\n",
    "            self.b = self.b - (self.lr* loss_slope_b)\n",
    "            self.m = self.m - (self.lr*loss_slope_m)\n",
    "        print(self.b)\n",
    "        print(self.m)\n",
    "    def predict(self,x):\n",
    "        return self.m*x + self.b\n",
    "            "
   ]
  },
  {
   "cell_type": "code",
   "execution_count": 69,
   "id": "16dfde85",
   "metadata": {},
   "outputs": [],
   "source": [
    "gd = GDregressor(0.0001,5000)"
   ]
  },
  {
   "cell_type": "code",
   "execution_count": 70,
   "id": "6126b31e",
   "metadata": {},
   "outputs": [
    {
     "name": "stdout",
     "output_type": "stream",
     "text": [
      "-1.9081689535407356\n",
      "24.024477214177463\n"
     ]
    }
   ],
   "source": [
    "gd.fit(x1,y1)"
   ]
  },
  {
   "cell_type": "code",
   "execution_count": 48,
   "id": "f20b876d",
   "metadata": {},
   "outputs": [
    {
     "data": {
      "text/plain": [
       "array([[ 5.10761379e+00],\n",
       "       [ 1.60470411e+01],\n",
       "       [-1.90229814e+01],\n",
       "       [-4.07102910e+01],\n",
       "       [ 1.88205538e+01],\n",
       "       [-1.28093324e+01],\n",
       "       [-2.55521160e+01],\n",
       "       [-7.49207909e+00],\n",
       "       [-7.75395500e+00],\n",
       "       [-2.21962723e+01],\n",
       "       [-1.46490072e+01],\n",
       "       [ 4.65064538e+01],\n",
       "       [-1.52033770e+01],\n",
       "       [ 4.35639695e+01],\n",
       "       [ 1.52290996e+01],\n",
       "       [ 1.89541447e+01],\n",
       "       [-1.37834351e+01],\n",
       "       [ 8.91560581e+00],\n",
       "       [ 5.09834085e+00],\n",
       "       [-2.42109363e+01],\n",
       "       [ 4.74307333e+01],\n",
       "       [-1.79732288e+00],\n",
       "       [ 2.06378510e+01],\n",
       "       [-1.41805018e+01],\n",
       "       [-5.44524666e+01],\n",
       "       [-5.70193705e-01],\n",
       "       [ 2.64175218e+01],\n",
       "       [ 3.45983198e-02],\n",
       "       [ 1.16139293e+01],\n",
       "       [-4.55947902e+01],\n",
       "       [-1.73750560e+01],\n",
       "       [ 1.54548778e+00],\n",
       "       [ 1.04483115e+01],\n",
       "       [ 2.01939908e+01],\n",
       "       [ 2.09830862e+01],\n",
       "       [-3.29035488e+00],\n",
       "       [-8.25657488e+00],\n",
       "       [-2.38027498e+01],\n",
       "       [ 1.01321214e+01],\n",
       "       [ 7.71780526e+00],\n",
       "       [ 1.16573536e+01],\n",
       "       [ 3.05322238e+01],\n",
       "       [ 3.31599261e+00],\n",
       "       [-4.12865288e+01],\n",
       "       [-3.22175905e+01],\n",
       "       [ 2.54396849e+01],\n",
       "       [-8.59020530e+00],\n",
       "       [-9.53031796e+00],\n",
       "       [-2.77607024e+01],\n",
       "       [ 1.64040262e+01],\n",
       "       [-7.97477203e+00],\n",
       "       [-1.22362213e+01],\n",
       "       [ 4.27210297e+00],\n",
       "       [ 2.39345152e+01],\n",
       "       [-1.42837850e+00],\n",
       "       [-4.86451601e+01],\n",
       "       [-1.19806787e+01],\n",
       "       [ 1.87819821e+01],\n",
       "       [-1.68268810e+01],\n",
       "       [ 2.19469124e+01],\n",
       "       [-3.03872345e+01],\n",
       "       [-1.81337009e+01],\n",
       "       [-1.77795187e+01],\n",
       "       [ 1.56096485e+01],\n",
       "       [-2.01640026e+01],\n",
       "       [-2.55134428e+00],\n",
       "       [-9.47246955e+00],\n",
       "       [-1.24103645e+01],\n",
       "       [ 3.57746407e+00],\n",
       "       [-2.01055858e+01],\n",
       "       [ 5.71602001e+00],\n",
       "       [-1.24357291e+01],\n",
       "       [-5.49269938e+01],\n",
       "       [ 6.94713406e+00],\n",
       "       [ 1.51726271e+01],\n",
       "       [ 9.50796574e+00],\n",
       "       [ 9.27901907e+00],\n",
       "       [ 1.81330821e+00],\n",
       "       [-1.02352157e+01],\n",
       "       [-4.18910573e+01],\n",
       "       [ 2.85802857e+01],\n",
       "       [ 1.80539031e+01],\n",
       "       [-1.44769153e+01],\n",
       "       [ 3.17077996e+01],\n",
       "       [ 5.24784041e-01],\n",
       "       [ 4.97536533e+01],\n",
       "       [-1.75494598e+01],\n",
       "       [ 6.74140540e+00],\n",
       "       [-2.54587457e+01],\n",
       "       [-2.80271369e+01],\n",
       "       [ 4.01164470e+01],\n",
       "       [-3.88833776e+01],\n",
       "       [ 6.72940537e+00],\n",
       "       [-1.41208489e+01],\n",
       "       [ 1.64924418e+01],\n",
       "       [-2.52429503e+00],\n",
       "       [-2.88277592e+01],\n",
       "       [-1.12694390e+01],\n",
       "       [-3.82534797e+01],\n",
       "       [-1.08000141e+01],\n",
       "       [ 1.77271669e+01],\n",
       "       [-2.63411096e+01],\n",
       "       [-2.02771368e+01],\n",
       "       [ 6.53310698e+00],\n",
       "       [-1.92298084e+01],\n",
       "       [ 3.08411784e+00],\n",
       "       [ 3.80624036e+00],\n",
       "       [ 2.66979001e+01],\n",
       "       [ 1.70368227e+01],\n",
       "       [-2.97733255e+00],\n",
       "       [-2.72457549e+01],\n",
       "       [-1.96556452e+00],\n",
       "       [-1.00432954e+01],\n",
       "       [ 1.34647074e+01],\n",
       "       [ 1.15998731e+01],\n",
       "       [-2.70228066e+01],\n",
       "       [-9.90053043e+00],\n",
       "       [ 2.10411313e+01],\n",
       "       [-1.47656698e+01],\n",
       "       [-4.81350909e+01],\n",
       "       [ 6.47038064e+00],\n",
       "       [-1.42078623e+01],\n",
       "       [-1.11445636e+01],\n",
       "       [ 7.63534505e+00],\n",
       "       [ 3.36164797e+01],\n",
       "       [-1.57905121e+01],\n",
       "       [ 1.13747925e+00],\n",
       "       [-1.34728652e+01],\n",
       "       [ 9.88476885e+00],\n",
       "       [-2.43076117e+01],\n",
       "       [-1.15931321e+01],\n",
       "       [-2.02636848e+01],\n",
       "       [ 1.01313912e+01],\n",
       "       [ 1.54366624e+01],\n",
       "       [ 5.71169652e+00],\n",
       "       [ 2.02506649e+01],\n",
       "       [ 2.53506001e+00],\n",
       "       [ 2.43812158e+01],\n",
       "       [-2.08632169e+01],\n",
       "       [ 2.00439717e+01],\n",
       "       [-3.86980524e+00],\n",
       "       [-1.09394493e+01],\n",
       "       [ 1.15022509e+00],\n",
       "       [ 1.95167176e+01],\n",
       "       [ 3.05293866e+01],\n",
       "       [-2.21288866e+01],\n",
       "       [-3.64665635e+00],\n",
       "       [-7.67550218e+00],\n",
       "       [ 4.76669848e+00],\n",
       "       [-1.45688098e+01],\n",
       "       [-3.12927876e+01],\n",
       "       [ 1.76716686e+01],\n",
       "       [ 2.42748117e+01],\n",
       "       [-2.03740304e+01],\n",
       "       [ 1.26575975e+01],\n",
       "       [-2.49485976e+01],\n",
       "       [-1.38716700e+01],\n",
       "       [ 3.04071935e+01],\n",
       "       [ 1.79651501e+00],\n",
       "       [ 1.12552805e+01],\n",
       "       [-3.16225464e+01],\n",
       "       [-2.01061595e+01],\n",
       "       [ 5.60857765e+00],\n",
       "       [ 1.62006724e+01],\n",
       "       [-2.04302839e+01],\n",
       "       [-5.55268696e+00],\n",
       "       [-1.18531903e+01],\n",
       "       [-1.98336775e+01],\n",
       "       [-2.31095382e+01],\n",
       "       [-4.83306364e+00],\n",
       "       [ 8.94638500e+00],\n",
       "       [ 3.00519968e+01],\n",
       "       [-1.43154380e+01],\n",
       "       [ 1.08809691e+01],\n",
       "       [-1.01034266e+01],\n",
       "       [-5.76412900e+01],\n",
       "       [ 7.90964017e+00],\n",
       "       [-1.25152692e+01],\n",
       "       [-1.83946399e+01],\n",
       "       [-2.46506138e+01],\n",
       "       [ 1.62232225e+01],\n",
       "       [-7.71020788e+00],\n",
       "       [-2.05189704e+01],\n",
       "       [-2.53968752e+01],\n",
       "       [-2.27566048e+01],\n",
       "       [ 1.98381018e+01],\n",
       "       [-9.64702132e+00],\n",
       "       [ 8.97872854e+00],\n",
       "       [-3.18747663e+01],\n",
       "       [ 5.54321464e+01],\n",
       "       [-6.88963717e+00],\n",
       "       [ 8.98647468e+00],\n",
       "       [ 4.25278022e+01],\n",
       "       [-1.50393889e+01],\n",
       "       [-1.77046769e+01],\n",
       "       [-5.39679553e+00],\n",
       "       [-8.91878495e+00],\n",
       "       [ 1.37814631e+00],\n",
       "       [-1.54595395e-01],\n",
       "       [-2.24285058e+01]])"
      ]
     },
     "execution_count": 48,
     "metadata": {},
     "output_type": "execute_result"
    }
   ],
   "source": [
    "gd.predict(x)"
   ]
  },
  {
   "cell_type": "code",
   "execution_count": null,
   "id": "8235f86f",
   "metadata": {},
   "outputs": [],
   "source": []
  },
  {
   "cell_type": "code",
   "execution_count": null,
   "id": "ae84a2c1",
   "metadata": {},
   "outputs": [],
   "source": []
  }
 ],
 "metadata": {
  "kernelspec": {
   "display_name": "Python 3 (ipykernel)",
   "language": "python",
   "name": "python3"
  },
  "language_info": {
   "codemirror_mode": {
    "name": "ipython",
    "version": 3
   },
   "file_extension": ".py",
   "mimetype": "text/x-python",
   "name": "python",
   "nbconvert_exporter": "python",
   "pygments_lexer": "ipython3",
   "version": "3.10.4"
  }
 },
 "nbformat": 4,
 "nbformat_minor": 5
}
